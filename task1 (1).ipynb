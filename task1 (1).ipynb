{
 "cells": [
  {
   "cell_type": "markdown",
   "metadata": {},
   "source": [
    "## import libraries"
   ]
  },
  {
   "cell_type": "code",
   "execution_count": 8,
   "metadata": {},
   "outputs": [],
   "source": [
    "import re"
   ]
  },
  {
   "cell_type": "markdown",
   "metadata": {},
   "source": [
    "#### build the function to split the input file to name list and email list"
   ]
  },
  {
   "cell_type": "code",
   "execution_count": 9,
   "metadata": {},
   "outputs": [],
   "source": [
    "def read_data(file_path):\n",
    "    # We use \\S+ for non-whitespace characters for both name and email\n",
    "    pattern = r\"(\\S+.*\\S+)\\s+(\\S+@\\S+\\.\\S+)\"\n",
    "    \n",
    "    # create lists \n",
    "    names = []\n",
    "    emails = []\n",
    "\n",
    "    # Open the file for reading\n",
    "    with open(file_path, 'r') as file:\n",
    "        for line in file:\n",
    "            # Search for the pattern in the line\n",
    "            match = re.search(pattern, line.strip())\n",
    "            if match:\n",
    "                # using match group to find the name and the email\n",
    "                name = match.group(1)\n",
    "                email = match.group(2)\n",
    "                \n",
    "                # Append to the lists\n",
    "                names.append(name)\n",
    "                emails.append(email)\n",
    "\n",
    "    return names, emails\n",
    "\n"
   ]
  },
  {
   "cell_type": "markdown",
   "metadata": {},
   "source": [
    "#### apply the function in the file"
   ]
  },
  {
   "cell_type": "code",
   "execution_count": 10,
   "metadata": {},
   "outputs": [
    {
     "name": "stdout",
     "output_type": "stream",
     "text": [
      "Names: ['capturetigg', 'hopelesschiggle', 'measlywithers', 'hiccupcobbey', 'cloakmonks', 'tacosmalderton', 'opossumscarton', 'lutchettix', 'tightsmorleena', 'platformknag', 'hesitanthexam', 'invidiousmanette', 'formfluggers', 'bovrilsnigsworth', 'searchclarriker', 'planeskettles', 'snivelingarethusa', 'toffeecurdle', 'obviouspawkins', 'freshmeagles', 'agiledame', 'shockingsilas', 'truepassnidge', 'rollswackford', 'clifdennadgett', 'ikeaplummer', 'leekstrott', 'pancakecasby', 'organizesoloman', 'successfuldolge', 'shitvholes', 'aboutbudden', 'reevegattleton', 'backcluppins', 'carolredlaw', 'flippantpayne', 'sodajiniwin', 'transomchowser', 'umpirecrimple', 'europeansophronia', 'buttermilknathaniel', 'oddsbloss', 'parkagrompas', 'vicargroper', 'loudmouthnemo', 'appearanceakershem', 'roughlorry', 'skyscraperdawkins', 'politicaltootle', 'sharpnesscaddy']\n",
      "Emails: ['alexandriainstruct@gmail.com', 'devoncrochet@gmail.com', 'sherbrookewrite@gmail.com', 'lucknowcheer@gmail.com', 'wisconsinstash@gmail.com', 'singaporeuntie@gmail.com', 'reginathaw@gmail.com', 'nottinghamshiredam@gmail.com', 'derbyfreeze@gmail.com', 'topekasnooze@gmail.com', 'hartfordmend@gmail.com', 'nagoyalaugh@gmail.com', 'yangoncurve@gmail.com', 'armaghlet@gmail.com', 'canmorespin@gmail.com', 'concordrule@gmail.com', 'boiseequivocate@gmail.com', 'whitehorsebruise@gmail.com', 'nanaimobob@gmail.com', 'midlandnotice@gmail.com', 'honolulutype@gmail.com', 'buckinghamshireext@gmail.com', 'victoriavilletry@gmail.com', 'suzhousoak@gmail.com', 'manilavolunteer@gmail.com', 'windsortempt@gmail.com', 'oklahomabellow@gmail.com', 'vernonreceive@gmail.com', 'dongguaninform@gmail.com', 'johannesburggush@gmail.com', 'helenaemigrate@gmail.com', 'albanycare@gmail.com', 'bismarckfear@gmail.com', 'minnesotasense@gmail.com', 'miramichidecorate@gmail.com', 'alabamawonder@gmail.com', 'oxfordconnect@gmail.com', 'prestonremain@gmail.com', 'faisalabaddrone@gmail.com', 'dhakacome@gmail.com', 'beijingmatter@gmail.com', 'chennaiwander@gmail.com', 'herefordrepeat@gmail.com', 'guangzhouwelcome@gmail.com', 'brooksargue@gmail.com', 'saleminterject@gmail.com', 'hefeidecide@gmail.com', 'carlislefit@gmail.com', 'hawaiistore@gmail.com', 'peterboroughexpect@gmail.com']\n"
     ]
    }
   ],
   "source": [
    "file_path = 'Example1.txt'  # Path to your file\n",
    "names, emails = read_data(file_path)\n",
    "\n",
    "\n",
    "print(\"Names:\", names)\n",
    "print(\"Emails:\", emails)\n"
   ]
  },
  {
   "cell_type": "code",
   "execution_count": 11,
   "metadata": {},
   "outputs": [
    {
     "data": {
      "text/plain": [
       "(50, 50)"
      ]
     },
     "execution_count": 11,
     "metadata": {},
     "output_type": "execute_result"
    }
   ],
   "source": [
    "len(names) , len(emails)"
   ]
  }
 ],
 "metadata": {
  "kernelspec": {
   "display_name": "Python 3 (ipykernel)",
   "language": "python",
   "name": "python3"
  },
  "language_info": {
   "codemirror_mode": {
    "name": "ipython",
    "version": 3
   },
   "file_extension": ".py",
   "mimetype": "text/x-python",
   "name": "python",
   "nbconvert_exporter": "python",
   "pygments_lexer": "ipython3",
   "version": "3.11.7"
  }
 },
 "nbformat": 4,
 "nbformat_minor": 4
}
