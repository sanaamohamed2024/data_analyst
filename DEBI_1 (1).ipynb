{
 "cells": [
  {
   "cell_type": "markdown",
   "id": "b2d6ba43-0bdf-4d05-b0e7-2ef69da753a7",
   "metadata": {},
   "source": [
    "# basics of python"
   ]
  },
  {
   "cell_type": "code",
   "execution_count": 119,
   "id": "18ed9e1d-ddcd-4729-b82c-6c4366d27ed1",
   "metadata": {},
   "outputs": [
    {
     "name": "stdout",
     "output_type": "stream",
     "text": [
      "alex\n"
     ]
    }
   ],
   "source": [
    "print('alex')\n"
   ]
  },
  {
   "cell_type": "code",
   "execution_count": 120,
   "id": "19cb4841-3362-490b-bf6c-3e1a52305400",
   "metadata": {},
   "outputs": [
    {
     "name": "stdout",
     "output_type": "stream",
     "text": [
      "the value of x is 5\n"
     ]
    }
   ],
   "source": [
    "x=5\n",
    "print(f\"the value of x is {x}\")"
   ]
  },
  {
   "cell_type": "code",
   "execution_count": 121,
   "id": "f38a5b29-2cd3-4132-9a56-3ea58391cc94",
   "metadata": {},
   "outputs": [
    {
     "name": "stdout",
     "output_type": "stream",
     "text": [
      "smaller\n"
     ]
    }
   ],
   "source": [
    "if x>10:\n",
    "    print('bigger')\n",
    "else:\n",
    "    print('smaller')"
   ]
  },
  {
   "cell_type": "markdown",
   "id": "6eef9482-cf68-4b6d-a828-c29e58967641",
   "metadata": {},
   "source": [
    "### python qutation"
   ]
  },
  {
   "cell_type": "code",
   "execution_count": 122,
   "id": "397aeefd-ba09-4f36-ba5a-1659eff9ffbf",
   "metadata": {},
   "outputs": [
    {
     "data": {
      "text/plain": [
       "\"it's good thing\""
      ]
     },
     "execution_count": 122,
     "metadata": {},
     "output_type": "execute_result"
    }
   ],
   "source": [
    "'it\\'s good thing'"
   ]
  },
  {
   "cell_type": "code",
   "execution_count": 123,
   "id": "47f6119b-4aaf-494a-bb0b-bdf05a470421",
   "metadata": {},
   "outputs": [
    {
     "data": {
      "text/plain": [
       "\"it's good thing\""
      ]
     },
     "execution_count": 123,
     "metadata": {},
     "output_type": "execute_result"
    }
   ],
   "source": [
    "\"it's good thing\""
   ]
  },
  {
   "cell_type": "code",
   "execution_count": 124,
   "id": "b6ee9ff8-1d1d-4f2c-85db-0b750711615f",
   "metadata": {},
   "outputs": [
    {
     "data": {
      "text/plain": [
       "''"
      ]
     },
     "execution_count": 124,
     "metadata": {},
     "output_type": "execute_result"
    }
   ],
   "source": [
    "\n",
    "x='hello world'\n",
    "x[5:1]"
   ]
  },
  {
   "cell_type": "markdown",
   "id": "6f580bf8-67ac-4a7a-b092-d0d75e9a89b8",
   "metadata": {},
   "source": [
    "### first task\n",
    "### find the next square value"
   ]
  },
  {
   "cell_type": "code",
   "execution_count": 125,
   "id": "a598fc51-9109-45e8-984b-8e41f5be0f0a",
   "metadata": {},
   "outputs": [
    {
     "name": "stdout",
     "output_type": "stream",
     "text": [
      "enter x: 4\n"
     ]
    },
    {
     "name": "stdout",
     "output_type": "stream",
     "text": [
      "9\n"
     ]
    }
   ],
   "source": [
    "import math\n",
    "def next_seq(x):\n",
    "    \n",
    "    if x>0:\n",
    "       y=math.sqrt(x)\n",
    "      \n",
    "       y=int(y)\n",
    "       y+=1\n",
    "       x=y**(2)\n",
    "    else:\n",
    "        x=-1\n",
    "    print(x)  \n",
    "x=input('enter x:')\n",
    "x=int(x)\n",
    "next_seq(x)\n"
   ]
  },
  {
   "cell_type": "markdown",
   "id": "f05a5b85-cd9d-48bc-bcb6-5c6ef92ed6dc",
   "metadata": {},
   "source": [
    "### the second task\n",
    "### find the unique value in the list"
   ]
  },
  {
   "cell_type": "code",
   "execution_count": 126,
   "id": "86e3c712-f9b8-4532-9dde-7626f57f015d",
   "metadata": {},
   "outputs": [
    {
     "data": {
      "text/plain": [
       "7"
      ]
     },
     "execution_count": 126,
     "metadata": {},
     "output_type": "execute_result"
    }
   ],
   "source": [
    "x=[1,2,2,3,2,3,2]\n",
    "x.count(2)\n",
    "len(x)"
   ]
  },
  {
   "cell_type": "code",
   "execution_count": 127,
   "id": "f70556e0-5091-4093-945a-0bbe69befddd",
   "metadata": {},
   "outputs": [
    {
     "name": "stdout",
     "output_type": "stream",
     "text": [
      "5\n"
     ]
    }
   ],
   "source": [
    "def find_unique(x):\n",
    "    for i,v in enumerate(x):\n",
    "     z=x.count(x[i])\n",
    "     if z==1:\n",
    "       return x[i]\n",
    "            \n",
    "x=[1,1,1,1,1,1,5]\n",
    "y=find_unique(x)\n",
    "print(y)\n",
    "        "
   ]
  },
  {
   "cell_type": "markdown",
   "id": "c959543a-0e40-4a8f-81bd-da0a85cd82b6",
   "metadata": {},
   "source": [
    "### the third task\n",
    "### filter the list from the none intger value"
   ]
  },
  {
   "cell_type": "code",
   "execution_count": 128,
   "id": "b92356ea-0cbb-4afa-8fa2-e92df7cf6b6c",
   "metadata": {},
   "outputs": [
    {
     "name": "stdout",
     "output_type": "stream",
     "text": [
      "True\n"
     ]
    }
   ],
   "source": [
    "numbers = [1, 2, 3]\n",
    "result = isinstance(numbers, list)\n",
    "print(result) # Output: True"
   ]
  },
  {
   "cell_type": "code",
   "execution_count": 129,
   "id": "f7af5bea-5de6-4d83-84a1-7325c2901554",
   "metadata": {},
   "outputs": [],
   "source": [
    "y=[]\n",
    "for i,v in enumerate(x):\n",
    "    if isinstance(x[i], int):\n",
    "        y.append(x[i]) \n",
    "\n",
    "    "
   ]
  },
  {
   "cell_type": "code",
   "execution_count": 130,
   "id": "e3cce046-c64b-4df6-bcab-5557cacc838f",
   "metadata": {},
   "outputs": [
    {
     "name": "stdout",
     "output_type": "stream",
     "text": [
      "[1, 5, 3]\n"
     ]
    }
   ],
   "source": [
    "def list_filter(x):\n",
    "    y=[]\n",
    "    for i,v in enumerate(x):\n",
    "       if isinstance(x[i], int):\n",
    "          y.append(x[i])\n",
    "    return y      \n",
    "\n",
    "x=[1,'a',5,'k',3]\n",
    "z=list_filter(x)\n",
    "print(z)\n",
    "    \n"
   ]
  },
  {
   "cell_type": "code",
   "execution_count": null,
   "id": "492c081e-90bd-4aae-ac0a-2f3d005def91",
   "metadata": {},
   "outputs": [],
   "source": []
  },
  {
   "cell_type": "code",
   "execution_count": 131,
   "id": "3c4129c3-44ee-4d0d-9dcc-674722006a3c",
   "metadata": {},
   "outputs": [
    {
     "data": {
      "text/plain": [
       "[1, 2, 4, 6]"
      ]
     },
     "execution_count": 131,
     "metadata": {},
     "output_type": "execute_result"
    }
   ],
   "source": [
    "x=[1,2,'a','d',4,6]\n",
    "[i for i in x if isinstance(i, int)]"
   ]
  },
  {
   "cell_type": "code",
   "execution_count": null,
   "id": "600859ee-1816-4ed7-bf50-66aeaeff1446",
   "metadata": {},
   "outputs": [],
   "source": []
  },
  {
   "cell_type": "markdown",
   "id": "a506031e-33fd-4324-a7cd-b9d20c0ac8f3",
   "metadata": {},
   "source": [
    "### the fourth task\n",
    "### count the number of vowel character in the string"
   ]
  },
  {
   "cell_type": "code",
   "execution_count": 132,
   "id": "a5a169da-529f-4ea2-acce-bb9dffa67063",
   "metadata": {},
   "outputs": [
    {
     "name": "stdout",
     "output_type": "stream",
     "text": [
      "4\n"
     ]
    }
   ],
   "source": [
    "def vowel_count(x):\n",
    "    x=x.lower()\n",
    "    count=0\n",
    "    for i in x:\n",
    "        if(i=='a' or i=='e' or i=='i' or i=='o' or i=='u'):\n",
    "           count+=1\n",
    "    return count\n",
    "x='hEEllo world'\n",
    "z=vowel_count(x)\n",
    "print(z)"
   ]
  },
  {
   "cell_type": "code",
   "execution_count": null,
   "id": "15524f35-cebc-45bb-955f-b467eb42b1ae",
   "metadata": {},
   "outputs": [],
   "source": []
  },
  {
   "cell_type": "code",
   "execution_count": 133,
   "id": "bcd603fb-3350-4871-b810-0015f8fcfec4",
   "metadata": {},
   "outputs": [
    {
     "name": "stdout",
     "output_type": "stream",
     "text": [
      "4\n"
     ]
    }
   ],
   "source": [
    "def vowel_count(x):\n",
    "    x=x.lower()\n",
    "    count=0\n",
    "    for i in x:\n",
    "        if i in ['a','e','i','o','u']:\n",
    "           count+=1\n",
    "    return count\n",
    "x='hEEllo world'\n",
    "z=vowel_count(x)\n",
    "print(z)"
   ]
  },
  {
   "cell_type": "markdown",
   "id": "363e5a65-69d9-43c1-8c00-7df6fe473e82",
   "metadata": {},
   "source": [
    "### the fifth task\n",
    "### enumeration example"
   ]
  },
  {
   "cell_type": "code",
   "execution_count": 134,
   "id": "fc7a5126-834b-4c36-8308-e8446c3b1a40",
   "metadata": {},
   "outputs": [
    {
     "name": "stdout",
     "output_type": "stream",
     "text": [
      "0\n",
      "1\n",
      "1\n",
      "debi\n",
      "2\n",
      "hello\n",
      "3\n",
      "[8, 7, 6]\n",
      "4\n",
      "(5, 7, 9)\n"
     ]
    }
   ],
   "source": [
    "x=[1,'debi','hello',[8,7,6],(5,7,9)]\n",
    "for i,v in enumerate(x):\n",
    "    print(i)\n",
    "    print(v)"
   ]
  },
  {
   "cell_type": "code",
   "execution_count": null,
   "id": "5466a232-a2ad-43c0-816a-9b672fca13c5",
   "metadata": {},
   "outputs": [],
   "source": []
  },
  {
   "cell_type": "markdown",
   "id": "cb6501e8-37b7-41b4-885e-d205d95eff57",
   "metadata": {},
   "source": [
    "# numpy"
   ]
  },
  {
   "cell_type": "markdown",
   "id": "1aaf5436-81cf-46bc-af73-592a65e3b4d4",
   "metadata": {},
   "source": [
    "## basics"
   ]
  },
  {
   "cell_type": "code",
   "execution_count": 135,
   "id": "85fb3b46-eb01-4e27-a966-f450bd126a31",
   "metadata": {},
   "outputs": [],
   "source": [
    "import numpy as np"
   ]
  },
  {
   "cell_type": "code",
   "execution_count": 136,
   "id": "fcc9d2a1-531a-47b2-8423-2476147455a2",
   "metadata": {},
   "outputs": [
    {
     "name": "stdout",
     "output_type": "stream",
     "text": [
      "[1 2 3]\n"
     ]
    }
   ],
   "source": [
    "arr=np.array([1,2,3])\n",
    "print(arr)"
   ]
  },
  {
   "cell_type": "code",
   "execution_count": 137,
   "id": "dfda4ced-9918-446e-a3fe-140ddf89f8a8",
   "metadata": {},
   "outputs": [
    {
     "data": {
      "text/plain": [
       "dtype('int32')"
      ]
     },
     "execution_count": 137,
     "metadata": {},
     "output_type": "execute_result"
    }
   ],
   "source": [
    "arr.dtype"
   ]
  },
  {
   "cell_type": "code",
   "execution_count": 138,
   "id": "5aab018b-4997-4528-b053-27a1e3e2bd87",
   "metadata": {},
   "outputs": [
    {
     "data": {
      "text/plain": [
       "numpy.ndarray"
      ]
     },
     "execution_count": 138,
     "metadata": {},
     "output_type": "execute_result"
    }
   ],
   "source": [
    "type(arr)"
   ]
  },
  {
   "cell_type": "code",
   "execution_count": 139,
   "id": "0698d9bb-c095-4188-a543-115d730a4f51",
   "metadata": {},
   "outputs": [
    {
     "data": {
      "text/plain": [
       "(3,)"
      ]
     },
     "execution_count": 139,
     "metadata": {},
     "output_type": "execute_result"
    }
   ],
   "source": [
    "arr.shape"
   ]
  },
  {
   "cell_type": "code",
   "execution_count": 140,
   "id": "d6e5ec3b-2825-49cd-9024-5adbc38b69a8",
   "metadata": {},
   "outputs": [
    {
     "name": "stdout",
     "output_type": "stream",
     "text": [
      "[1 2 3]\n"
     ]
    }
   ],
   "source": [
    "arr=np.array([1,2,3])\n",
    "print(arr)"
   ]
  },
  {
   "cell_type": "code",
   "execution_count": 141,
   "id": "8eda089a-3b9b-404f-a7f0-a1906febf417",
   "metadata": {},
   "outputs": [
    {
     "data": {
      "text/plain": [
       "3"
      ]
     },
     "execution_count": 141,
     "metadata": {},
     "output_type": "execute_result"
    }
   ],
   "source": [
    "arr.size"
   ]
  },
  {
   "cell_type": "code",
   "execution_count": 142,
   "id": "5f126632-2d50-4b0d-80eb-595bc8904bf7",
   "metadata": {},
   "outputs": [
    {
     "data": {
      "text/plain": [
       "6"
      ]
     },
     "execution_count": 142,
     "metadata": {},
     "output_type": "execute_result"
    }
   ],
   "source": [
    "arr.sum()"
   ]
  },
  {
   "cell_type": "code",
   "execution_count": 143,
   "id": "6b85197d-2e97-41c8-a46a-fe4579075a8b",
   "metadata": {},
   "outputs": [
    {
     "data": {
      "text/plain": [
       "3"
      ]
     },
     "execution_count": 143,
     "metadata": {},
     "output_type": "execute_result"
    }
   ],
   "source": [
    "arr.max()"
   ]
  },
  {
   "cell_type": "code",
   "execution_count": 144,
   "id": "0c503bce-4d75-4134-bdcd-855f9f529412",
   "metadata": {},
   "outputs": [
    {
     "data": {
      "text/plain": [
       "1"
      ]
     },
     "execution_count": 144,
     "metadata": {},
     "output_type": "execute_result"
    }
   ],
   "source": [
    "np.min(arr)"
   ]
  },
  {
   "cell_type": "code",
   "execution_count": 145,
   "id": "e8dd5817-ebe8-4a0d-9d1f-f733608de3c0",
   "metadata": {},
   "outputs": [
    {
     "data": {
      "text/plain": [
       "2.0"
      ]
     },
     "execution_count": 145,
     "metadata": {},
     "output_type": "execute_result"
    }
   ],
   "source": [
    "np.mean(arr)"
   ]
  },
  {
   "cell_type": "code",
   "execution_count": 146,
   "id": "93fab817-8748-4732-8085-65045dde069f",
   "metadata": {},
   "outputs": [
    {
     "data": {
      "text/plain": [
       "2.0"
      ]
     },
     "execution_count": 146,
     "metadata": {},
     "output_type": "execute_result"
    }
   ],
   "source": [
    "np.median(arr)"
   ]
  },
  {
   "cell_type": "code",
   "execution_count": 147,
   "id": "ebcda8a4-c14f-450b-a7b7-27aa8af81b4d",
   "metadata": {},
   "outputs": [
    {
     "data": {
      "text/plain": [
       "0.6666666666666666"
      ]
     },
     "execution_count": 147,
     "metadata": {},
     "output_type": "execute_result"
    }
   ],
   "source": [
    "np.var(arr)"
   ]
  },
  {
   "cell_type": "code",
   "execution_count": 148,
   "id": "ac4e7fbc-d4a0-4103-8c0f-a82db50ccc95",
   "metadata": {},
   "outputs": [
    {
     "data": {
      "text/plain": [
       "0.816496580927726"
      ]
     },
     "execution_count": 148,
     "metadata": {},
     "output_type": "execute_result"
    }
   ],
   "source": [
    "np.std(arr)"
   ]
  },
  {
   "cell_type": "code",
   "execution_count": 149,
   "id": "9f0f1a0a-6a44-469d-a389-7139eaf631bb",
   "metadata": {},
   "outputs": [
    {
     "name": "stdout",
     "output_type": "stream",
     "text": [
      "[[1 2 3]\n",
      " [4 5 6]\n",
      " [7 8 9]]\n"
     ]
    }
   ],
   "source": [
    "arr=np.array([[1,2,3],[4,5,6],[7,8,9]])\n",
    "print(arr)"
   ]
  },
  {
   "cell_type": "code",
   "execution_count": 150,
   "id": "8d258382-f015-4a34-a519-aea1ee7526c7",
   "metadata": {},
   "outputs": [
    {
     "data": {
      "text/plain": [
       "array([7, 8, 9])"
      ]
     },
     "execution_count": 150,
     "metadata": {},
     "output_type": "execute_result"
    }
   ],
   "source": [
    "np.max(arr,axis=0)"
   ]
  },
  {
   "cell_type": "code",
   "execution_count": 151,
   "id": "06196e74-d88e-4e33-ae03-3ed96cae8776",
   "metadata": {},
   "outputs": [
    {
     "data": {
      "text/plain": [
       "array([3, 6, 9])"
      ]
     },
     "execution_count": 151,
     "metadata": {},
     "output_type": "execute_result"
    }
   ],
   "source": [
    "np.max(arr,axis=1)"
   ]
  },
  {
   "cell_type": "code",
   "execution_count": 152,
   "id": "d6bde40d-ee35-46d4-aba3-2b8c4121c383",
   "metadata": {},
   "outputs": [
    {
     "data": {
      "text/plain": [
       "array([ 6, 15, 24])"
      ]
     },
     "execution_count": 152,
     "metadata": {},
     "output_type": "execute_result"
    }
   ],
   "source": [
    "np.sum(arr,axis=1)"
   ]
  },
  {
   "cell_type": "code",
   "execution_count": 153,
   "id": "dea93916-2191-4eb9-9d2a-43db7fb0e516",
   "metadata": {},
   "outputs": [
    {
     "data": {
      "text/plain": [
       "8"
      ]
     },
     "execution_count": 153,
     "metadata": {},
     "output_type": "execute_result"
    }
   ],
   "source": [
    "np.argmax(arr)"
   ]
  },
  {
   "cell_type": "code",
   "execution_count": 154,
   "id": "47cc8181-d3a9-4975-948c-5950c311a074",
   "metadata": {},
   "outputs": [
    {
     "data": {
      "text/plain": [
       "array([2, 2, 2], dtype=int64)"
      ]
     },
     "execution_count": 154,
     "metadata": {},
     "output_type": "execute_result"
    }
   ],
   "source": [
    "np.argmax(arr, axis=1)"
   ]
  },
  {
   "cell_type": "markdown",
   "id": "97821b00-7840-42df-9b22-871fa22164ab",
   "metadata": {},
   "source": [
    "#### broadcasting \n",
    "##### operation for item level"
   ]
  },
  {
   "cell_type": "code",
   "execution_count": 155,
   "id": "4f3c0df2-a155-4aea-96c3-a6b0d393a403",
   "metadata": {},
   "outputs": [
    {
     "data": {
      "text/plain": [
       "array([[ 2,  3,  4],\n",
       "       [ 5,  6,  7],\n",
       "       [ 8,  9, 10]])"
      ]
     },
     "execution_count": 155,
     "metadata": {},
     "output_type": "execute_result"
    }
   ],
   "source": [
    "arr+1"
   ]
  },
  {
   "cell_type": "code",
   "execution_count": 156,
   "id": "68501b59-81dc-49a3-b762-dbfc1a26cfbe",
   "metadata": {},
   "outputs": [
    {
     "data": {
      "text/plain": [
       "array([[ 5, 10, 15],\n",
       "       [20, 25, 30],\n",
       "       [35, 40, 45]])"
      ]
     },
     "execution_count": 156,
     "metadata": {},
     "output_type": "execute_result"
    }
   ],
   "source": [
    "arr*5"
   ]
  },
  {
   "cell_type": "code",
   "execution_count": 157,
   "id": "fa6044fd-acf6-4811-b9d8-59a9186d3f36",
   "metadata": {},
   "outputs": [
    {
     "data": {
      "text/plain": [
       "array([[ 3,  4,  5],\n",
       "       [ 6,  7,  8],\n",
       "       [ 9, 10, 11]])"
      ]
     },
     "execution_count": 157,
     "metadata": {},
     "output_type": "execute_result"
    }
   ],
   "source": [
    "arr=arr+2\n",
    "arr"
   ]
  },
  {
   "cell_type": "code",
   "execution_count": null,
   "id": "d15d4482-cb49-4889-8c52-c907c25d69a0",
   "metadata": {},
   "outputs": [],
   "source": []
  },
  {
   "cell_type": "markdown",
   "id": "d062ad6f-6d79-4c3f-afee-3917690a7d8e",
   "metadata": {},
   "source": [
    "##### operation for row level"
   ]
  },
  {
   "cell_type": "code",
   "execution_count": 159,
   "id": "ecba3ea3-49b2-4b40-815b-57d8428b88cf",
   "metadata": {},
   "outputs": [
    {
     "data": {
      "text/plain": [
       "array([[ 7,  9, 11],\n",
       "       [10, 12, 14],\n",
       "       [13, 15, 17]])"
      ]
     },
     "execution_count": 159,
     "metadata": {},
     "output_type": "execute_result"
    }
   ],
   "source": [
    "arr+np.array([4,5,6]) ## add for row"
   ]
  },
  {
   "cell_type": "code",
   "execution_count": 160,
   "id": "bd051fa7-c84a-445d-b54b-1873ffbd0761",
   "metadata": {},
   "outputs": [
    {
     "data": {
      "text/plain": [
       "array([26, 44, 62])"
      ]
     },
     "execution_count": 160,
     "metadata": {},
     "output_type": "execute_result"
    }
   ],
   "source": [
    "arr@np.array([1,2,3]) ## dot product"
   ]
  },
  {
   "cell_type": "code",
   "execution_count": 163,
   "id": "7912da10-f40a-4be2-b2e7-c975bdc10c77",
   "metadata": {},
   "outputs": [
    {
     "data": {
      "text/plain": [
       "array([13])"
      ]
     },
     "execution_count": 163,
     "metadata": {},
     "output_type": "execute_result"
    }
   ],
   "source": [
    "np.matmul(np.array([2,3]),np.array([[2],[3]]))  ## matrix multplication"
   ]
  },
  {
   "cell_type": "markdown",
   "id": "badfa364-1451-40b0-a806-47c34a72cfbf",
   "metadata": {},
   "source": [
    "##### access the item in matrix"
   ]
  },
  {
   "cell_type": "code",
   "execution_count": 167,
   "id": "d61144d4-d758-406f-8337-6ed268308e55",
   "metadata": {},
   "outputs": [
    {
     "data": {
      "text/plain": [
       "3"
      ]
     },
     "execution_count": 167,
     "metadata": {},
     "output_type": "execute_result"
    }
   ],
   "source": [
    "a=np.array([[1,2,3,4,5],\n",
    "            [6,7,8,9,10]])\n",
    "a[0,2]"
   ]
  },
  {
   "cell_type": "code",
   "execution_count": 168,
   "id": "4d5b144f-9fbd-429f-bc49-57b6c2708d7a",
   "metadata": {},
   "outputs": [
    {
     "data": {
      "text/plain": [
       "8"
      ]
     },
     "execution_count": 168,
     "metadata": {},
     "output_type": "execute_result"
    }
   ],
   "source": [
    "a[1,2]"
   ]
  },
  {
   "cell_type": "code",
   "execution_count": 170,
   "id": "0de5372d-1a23-4325-9bab-c7e08d8a90f1",
   "metadata": {},
   "outputs": [
    {
     "data": {
      "text/plain": [
       "array([3, 8])"
      ]
     },
     "execution_count": 170,
     "metadata": {},
     "output_type": "execute_result"
    }
   ],
   "source": [
    "a[:,2]"
   ]
  },
  {
   "cell_type": "markdown",
   "id": "b36bf5fc-479a-49cf-a37c-ce22faa5fb65",
   "metadata": {},
   "source": [
    "#### reshape"
   ]
  },
  {
   "cell_type": "code",
   "execution_count": 171,
   "id": "7f4f695d-3d75-43b1-8995-860ee66b112a",
   "metadata": {},
   "outputs": [
    {
     "data": {
      "text/plain": [
       "array([[1, 2],\n",
       "       [3, 4]])"
      ]
     },
     "execution_count": 171,
     "metadata": {},
     "output_type": "execute_result"
    }
   ],
   "source": [
    "arr=np.array([1,2,3,4])\n",
    "arr.reshape(2,2)"
   ]
  },
  {
   "cell_type": "code",
   "execution_count": 172,
   "id": "240d63d0-3fed-44d4-8231-b0c79516bfa6",
   "metadata": {},
   "outputs": [
    {
     "data": {
      "text/plain": [
       "array([[ 1,  2,  3,  4],\n",
       "       [ 8,  9,  6, 10]])"
      ]
     },
     "execution_count": 172,
     "metadata": {},
     "output_type": "execute_result"
    }
   ],
   "source": [
    "arr=np.array([1,2,3,4,8,9,6,10])\n",
    "arr.reshape(2,-1)"
   ]
  },
  {
   "cell_type": "code",
   "execution_count": 173,
   "id": "4feb43fe-40eb-46e9-92e6-039cf2ff64c3",
   "metadata": {},
   "outputs": [
    {
     "data": {
      "text/plain": [
       "array([[ 1,  2],\n",
       "       [ 3,  4],\n",
       "       [ 8,  9],\n",
       "       [ 6, 10]])"
      ]
     },
     "execution_count": 173,
     "metadata": {},
     "output_type": "execute_result"
    }
   ],
   "source": [
    "arr=np.array([1,2,3,4,8,9,6,10])\n",
    "arr.reshape(-1,2)"
   ]
  },
  {
   "cell_type": "markdown",
   "id": "2d5f7485-3da1-4128-bf59-c485d987e3b5",
   "metadata": {},
   "source": [
    "#### create matrix"
   ]
  },
  {
   "cell_type": "code",
   "execution_count": 181,
   "id": "8393b62f-2e24-4eba-9241-589465ef1314",
   "metadata": {},
   "outputs": [
    {
     "data": {
      "text/plain": [
       "array([[1., 0., 0., 0., 0.],\n",
       "       [0., 1., 0., 0., 0.],\n",
       "       [0., 0., 1., 0., 0.],\n",
       "       [0., 0., 0., 1., 0.],\n",
       "       [0., 0., 0., 0., 1.]])"
      ]
     },
     "execution_count": 181,
     "metadata": {},
     "output_type": "execute_result"
    }
   ],
   "source": [
    "np.eye(5) ## an identity matrix"
   ]
  },
  {
   "cell_type": "code",
   "execution_count": 176,
   "id": "cdb9385a-365b-44e0-98a3-e616865c7616",
   "metadata": {},
   "outputs": [
    {
     "data": {
      "text/plain": [
       "array([[0, 0, 0],\n",
       "       [0, 0, 0]])"
      ]
     },
     "execution_count": 176,
     "metadata": {},
     "output_type": "execute_result"
    }
   ],
   "source": [
    "np.zeros((2, 3), dtype=int)"
   ]
  },
  {
   "cell_type": "code",
   "execution_count": 179,
   "id": "aa17c8fb-d2b5-4441-adb8-71bb70032ebb",
   "metadata": {},
   "outputs": [
    {
     "data": {
      "text/plain": [
       "array([[1., 1., 1.],\n",
       "       [1., 1., 1.]])"
      ]
     },
     "execution_count": 179,
     "metadata": {},
     "output_type": "execute_result"
    }
   ],
   "source": [
    "np.ones((2,3))"
   ]
  },
  {
   "cell_type": "code",
   "execution_count": 182,
   "id": "1c28f854-ed39-472c-9038-accef5224089",
   "metadata": {},
   "outputs": [
    {
     "data": {
      "text/plain": [
       "array([[6.3, 6.3],\n",
       "       [6.3, 6.3]])"
      ]
     },
     "execution_count": 182,
     "metadata": {},
     "output_type": "execute_result"
    }
   ],
   "source": [
    "np.full((2, 2), 6.3) ## constant matrix"
   ]
  },
  {
   "cell_type": "code",
   "execution_count": null,
   "id": "3c1ea5f3-00f5-491e-9fdd-2558860457d7",
   "metadata": {},
   "outputs": [],
   "source": []
  },
  {
   "cell_type": "markdown",
   "id": "5318df96-0671-4d4e-830f-497e2be09002",
   "metadata": {},
   "source": [
    "# Regex\n",
    "#### regular expression"
   ]
  },
  {
   "cell_type": "code",
   "execution_count": 183,
   "id": "61dc2f53-c366-4f46-a696-ce3840d880a9",
   "metadata": {},
   "outputs": [],
   "source": [
    "import re"
   ]
  },
  {
   "cell_type": "code",
   "execution_count": null,
   "id": "d9582605-e160-4a4f-81ad-09217c7f3444",
   "metadata": {},
   "outputs": [],
   "source": [
    "re.search()"
   ]
  },
  {
   "cell_type": "code",
   "execution_count": 184,
   "id": "f1f99a0f-1bfc-4dde-8afa-38231266cccf",
   "metadata": {},
   "outputs": [
    {
     "name": "stdout",
     "output_type": "stream",
     "text": [
      "<re.Match object; span=(5, 7), match='ai'>\n",
      "ai\n",
      "(5, 7)\n"
     ]
    }
   ],
   "source": [
    "txt='the rain in spain'\n",
    "x=re.search('ai',txt)\n",
    "print(x)\n",
    "print(x.group()) ## the pattern\n",
    "print(x.span())  ## refer to the first time that this pattern occure"
   ]
  },
  {
   "cell_type": "code",
   "execution_count": null,
   "id": "225eb75e-545d-4a89-b387-c7204af140c0",
   "metadata": {},
   "outputs": [],
   "source": [
    "re.findall()"
   ]
  },
  {
   "cell_type": "code",
   "execution_count": 185,
   "id": "84285ec0-4a0e-42c1-8d3f-c8c8818423aa",
   "metadata": {},
   "outputs": [
    {
     "name": "stdout",
     "output_type": "stream",
     "text": [
      "['ai', 'ai']\n"
     ]
    }
   ],
   "source": [
    "x=re.findall('ai',txt) ## get all times that the pattern happen but without the place\n",
    "print(x)"
   ]
  },
  {
   "cell_type": "code",
   "execution_count": 188,
   "id": "8c70173d-22d8-4d3c-8a38-8e56d96da1a8",
   "metadata": {},
   "outputs": [
    {
     "data": {
      "text/plain": [
       "['Sat', 'Sun']"
      ]
     },
     "execution_count": 188,
     "metadata": {},
     "output_type": "execute_result"
    }
   ],
   "source": [
    "txt='Saturday and Sunday are weekends'\n",
    "re.findall(r'sat|sun|mon',txt,re.IGNORECASE) ## or txt.lower"
   ]
  },
  {
   "cell_type": "code",
   "execution_count": 189,
   "id": "e61c7ed8-9a19-4e51-b98d-4f5e001c3107",
   "metadata": {},
   "outputs": [
    {
     "data": {
      "text/plain": [
       "['h', 'e', 'l', 'l', 'o', 'w', 'o', 'r', 'l', 'd']"
      ]
     },
     "execution_count": 189,
     "metadata": {},
     "output_type": "execute_result"
    }
   ],
   "source": [
    "txt='hello world'\n",
    "re.findall(r'[a-zA-Z]',txt)"
   ]
  },
  {
   "cell_type": "code",
   "execution_count": 190,
   "id": "5e60b412-1b18-490d-abb2-9db02e8d53f0",
   "metadata": {},
   "outputs": [
    {
     "data": {
      "text/plain": [
       "['h', 'e', 'l', 'l', 'o', 'w', 'o', 'r', 'l', 'd', '3', '3']"
      ]
     },
     "execution_count": 190,
     "metadata": {},
     "output_type": "execute_result"
    }
   ],
   "source": [
    "txt='hello world33'\n",
    "re.findall(r'[a-zA-Z0-9]',txt)"
   ]
  },
  {
   "cell_type": "code",
   "execution_count": 191,
   "id": "3f02491c-1180-4029-908d-4f0f66d2e3cc",
   "metadata": {},
   "outputs": [
    {
     "data": {
      "text/plain": [
       "['h', 'e', 'l', 'l', 'o', ',', 'w', 'o', 'r', 'l', 'd', '.', '3', '3']"
      ]
     },
     "execution_count": 191,
     "metadata": {},
     "output_type": "execute_result"
    }
   ],
   "source": [
    "txt='hello ,world.33'\n",
    "re.findall(r'[a-zA-Z0-9,.]',txt)"
   ]
  },
  {
   "cell_type": "code",
   "execution_count": null,
   "id": "414d62c2-ffc8-4939-92db-46c82ed60614",
   "metadata": {},
   "outputs": [],
   "source": []
  },
  {
   "cell_type": "code",
   "execution_count": 192,
   "id": "04e7ee20-8da3-4ae8-a5b0-22f55b03e003",
   "metadata": {},
   "outputs": [
    {
     "data": {
      "text/plain": [
       "['cat', 'can', 'con', 'cre']"
      ]
     },
     "execution_count": 192,
     "metadata": {},
     "output_type": "execute_result"
    }
   ],
   "source": [
    "txt='cat can concrete'\n",
    "re.findall(r'c..',txt)"
   ]
  },
  {
   "cell_type": "code",
   "execution_count": 196,
   "id": "498deb43-d091-4707-bad6-52976e3c81f3",
   "metadata": {},
   "outputs": [
    {
     "data": {
      "text/plain": [
       "['cat', 'can']"
      ]
     },
     "execution_count": 196,
     "metadata": {},
     "output_type": "execute_result"
    }
   ],
   "source": [
    "re.findall(r'\\bc\\w{2}\\b',txt)"
   ]
  },
  {
   "cell_type": "code",
   "execution_count": 198,
   "id": "328d6652-0a02-4fa4-b7a6-933aaa2c7281",
   "metadata": {},
   "outputs": [
    {
     "data": {
      "text/plain": [
       "['cat', 'can', 'concrete']"
      ]
     },
     "execution_count": 198,
     "metadata": {},
     "output_type": "execute_result"
    }
   ],
   "source": [
    "re.findall(r'\\b\\w{3,8}\\b',txt)"
   ]
  },
  {
   "cell_type": "code",
   "execution_count": 199,
   "id": "89027ad3-81fe-4a67-8905-9a01c0974108",
   "metadata": {},
   "outputs": [
    {
     "data": {
      "text/plain": [
       "['123', '456', '899']"
      ]
     },
     "execution_count": 199,
     "metadata": {},
     "output_type": "execute_result"
    }
   ],
   "source": [
    "re.findall(r'\\d{3}','test 123456899')"
   ]
  },
  {
   "cell_type": "code",
   "execution_count": 202,
   "id": "c238dab0-8eb6-41f7-afa6-05dbb051f521",
   "metadata": {},
   "outputs": [
    {
     "data": {
      "text/plain": [
       "['H']"
      ]
     },
     "execution_count": 202,
     "metadata": {},
     "output_type": "execute_result"
    }
   ],
   "source": [
    "re.findall(r'^[A-Z]','Hello\\nworld\\nPython')"
   ]
  },
  {
   "cell_type": "code",
   "execution_count": 203,
   "id": "16f17fb8-ac05-4141-9482-7915a2ae84e5",
   "metadata": {},
   "outputs": [
    {
     "data": {
      "text/plain": [
       "['H', 'P']"
      ]
     },
     "execution_count": 203,
     "metadata": {},
     "output_type": "execute_result"
    }
   ],
   "source": [
    "re.findall(r'^[A-Z]','Hello\\nworld\\nPython',re.MULTILINE)"
   ]
  },
  {
   "cell_type": "code",
   "execution_count": 208,
   "id": "302fe87f-4bef-453d-a3b6-ce528ccaccd4",
   "metadata": {},
   "outputs": [
    {
     "data": {
      "text/plain": [
       "[]"
      ]
     },
     "execution_count": 208,
     "metadata": {},
     "output_type": "execute_result"
    }
   ],
   "source": [
    "re.findall(r'd+$','Line 1\\n Line \\n Line 3',re.MULTILINE)"
   ]
  },
  {
   "cell_type": "code",
   "execution_count": null,
   "id": "b8f2df96-83cd-443b-8f2f-a26fea3546e9",
   "metadata": {},
   "outputs": [],
   "source": []
  },
  {
   "cell_type": "code",
   "execution_count": null,
   "id": "e3a81f36-0483-4444-92e0-d9b41c85550b",
   "metadata": {},
   "outputs": [],
   "source": []
  }
 ],
 "metadata": {
  "kernelspec": {
   "display_name": "Python 3 (ipykernel)",
   "language": "python",
   "name": "python3"
  },
  "language_info": {
   "codemirror_mode": {
    "name": "ipython",
    "version": 3
   },
   "file_extension": ".py",
   "mimetype": "text/x-python",
   "name": "python",
   "nbconvert_exporter": "python",
   "pygments_lexer": "ipython3",
   "version": "3.11.7"
  }
 },
 "nbformat": 4,
 "nbformat_minor": 5
}
