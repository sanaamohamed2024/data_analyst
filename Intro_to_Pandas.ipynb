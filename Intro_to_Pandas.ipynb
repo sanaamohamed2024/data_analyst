{
 "cells": [
  {
   "cell_type": "markdown",
   "id": "bc78298f-c8d4-4102-8f02-b6068633b493",
   "metadata": {},
   "source": [
    "#### data preprocessing could use as ETA tool"
   ]
  },
  {
   "cell_type": "code",
   "execution_count": 78,
   "id": "783c348d-e768-4abc-a049-281c1bf0bf01",
   "metadata": {},
   "outputs": [],
   "source": [
    "import pandas as pd"
   ]
  },
  {
   "cell_type": "code",
   "execution_count": 79,
   "id": "719ff53c-4345-4891-9119-2472a21093a1",
   "metadata": {},
   "outputs": [],
   "source": [
    "names=['hassan', 'ahmed', 'ali']\n",
    "ages=[30,22,28]\n"
   ]
  },
  {
   "cell_type": "code",
   "execution_count": 80,
   "id": "ef78bbbe-55bd-438d-a5ec-132b8e301df1",
   "metadata": {},
   "outputs": [
    {
     "data": {
      "text/plain": [
       "(['Alice Johnson',\n",
       "  'Bob Smith',\n",
       "  'Charlie Brown',\n",
       "  'Diana Prince',\n",
       "  'Ethan Hunt',\n",
       "  'Fiona Gallagher',\n",
       "  'George Washington',\n",
       "  'Hannah Montana',\n",
       "  'Ian Malcolm',\n",
       "  'Jessica Rabbit',\n",
       "  'Kevin Bacon',\n",
       "  'Laura Croft',\n",
       "  'Mike Wazowski',\n",
       "  'Nina Simone',\n",
       "  'Oliver Twist',\n",
       "  'Pamela Anderson',\n",
       "  'Quincy Adams',\n",
       "  'Rachel Green',\n",
       "  'Sammy Davis',\n",
       "  'Tina Fey',\n",
       "  'Ursula Andress',\n",
       "  'Victor Frankenstein',\n",
       "  'Wanda Maximoff',\n",
       "  'Xena Warrior',\n",
       "  'Yasmine Bleeth',\n",
       "  'Zach Morris'],\n",
       " [' 28',\n",
       "  ' 34',\n",
       "  ' 22',\n",
       "  ' 30',\n",
       "  ' 27',\n",
       "  ' 24',\n",
       "  ' 31',\n",
       "  ' 29',\n",
       "  ' 35',\n",
       "  ' 26',\n",
       "  ' 33',\n",
       "  ' 25',\n",
       "  ' 32',\n",
       "  ' 30',\n",
       "  ' 21',\n",
       "  ' 36',\n",
       "  ' 29',\n",
       "  ' 28',\n",
       "  ' 34',\n",
       "  ' 27',\n",
       "  ' 33',\n",
       "  ' 30',\n",
       "  ' 26',\n",
       "  ' 35',\n",
       "  ' 24',\n",
       "  ' 31'],\n",
       " [' Eagles',\n",
       "  ' Hawks',\n",
       "  ' Falcons',\n",
       "  ' Titans',\n",
       "  ' Panthers',\n",
       "  ' Bears',\n",
       "  ' Rangers',\n",
       "  ' Dolphins',\n",
       "  ' Sharks',\n",
       "  ' Lions',\n",
       "  ' Giants',\n",
       "  ' Raiders',\n",
       "  ' Cougars',\n",
       "  ' Warriors',\n",
       "  ' Jets',\n",
       "  ' Thunder',\n",
       "  ' Knights',\n",
       "  ' Wolves',\n",
       "  ' Bulldogs',\n",
       "  ' Outlaws',\n",
       "  ' Spartans',\n",
       "  ' Beavers',\n",
       "  ' Panthers',\n",
       "  ' Titans',\n",
       "  ' Eagles',\n",
       "  ' Hawks'],\n",
       " [65000,\n",
       "  70000,\n",
       "  55000,\n",
       "  75000,\n",
       "  60000,\n",
       "  50000,\n",
       "  80000,\n",
       "  68000,\n",
       "  72000,\n",
       "  58000,\n",
       "  78000,\n",
       "  66000,\n",
       "  74000,\n",
       "  67000,\n",
       "  52000,\n",
       "  90000,\n",
       "  62000,\n",
       "  65000,\n",
       "  71000,\n",
       "  57000,\n",
       "  79000,\n",
       "  73000,\n",
       "  59000,\n",
       "  81000,\n",
       "  54000,\n",
       "  76000])"
      ]
     },
     "execution_count": 80,
     "metadata": {},
     "output_type": "execute_result"
    }
   ],
   "source": [
    "\n",
    "# create lists \n",
    "names=[]\n",
    "ages=[]\n",
    "teams=[]\n",
    "salaries=[]\n",
    "# Open the file for reading\n",
    "with open(\"Downloads/data.txt\", 'r') as file:\n",
    " lines=file.readlines()\n",
    " lines=lines[1:]\n",
    " for line in lines:\n",
    "    line.strip(\" \")\n",
    "    name,age,team,salary1,salary2=line.split(',')\n",
    "    names.append(name)\n",
    "    ages.append(age)\n",
    "    teams.append(team)\n",
    "    salaries.append(int(salary1.replace('$',\"\")+salary2))\n",
    "    \n",
    "names, ages,teams,salaries"
   ]
  },
  {
   "cell_type": "code",
   "execution_count": 81,
   "id": "9f1112ab-dc70-4421-898d-22c1cd092d9d",
   "metadata": {},
   "outputs": [
    {
     "data": {
      "text/plain": [
       "67576.92307692308"
      ]
     },
     "execution_count": 81,
     "metadata": {},
     "output_type": "execute_result"
    }
   ],
   "source": [
    "import numpy as np\n",
    "np.mean(salaries)\n"
   ]
  },
  {
   "cell_type": "code",
   "execution_count": 104,
   "id": "fe05688a-550e-487a-862b-73ae65b37e14",
   "metadata": {},
   "outputs": [
    {
     "data": {
      "text/plain": [
       "[' Eagles',\n",
       " ' Hawks',\n",
       " ' Falcons',\n",
       " ' Titans',\n",
       " ' Panthers',\n",
       " ' Bears',\n",
       " ' Rangers',\n",
       " ' Dolphins',\n",
       " ' Sharks',\n",
       " ' Lions',\n",
       " ' Giants',\n",
       " ' Raiders',\n",
       " ' Cougars',\n",
       " ' Warriors',\n",
       " ' Jets',\n",
       " ' Thunder',\n",
       " ' Knights',\n",
       " ' Wolves',\n",
       " ' Bulldogs',\n",
       " ' Outlaws',\n",
       " ' Spartans',\n",
       " ' Beavers',\n",
       " ' Panthers',\n",
       " ' Titans',\n",
       " ' Eagles',\n",
       " ' Hawks']"
      ]
     },
     "execution_count": 104,
     "metadata": {},
     "output_type": "execute_result"
    }
   ],
   "source": [
    "for team in teams:\n",
    "   team.lstrip() \n",
    "teams\n"
   ]
  },
  {
   "cell_type": "code",
   "execution_count": 124,
   "id": "fd9f174b-b058-4c5a-989b-fe293d647513",
   "metadata": {},
   "outputs": [
    {
     "ename": "ZeroDivisionError",
     "evalue": "division by zero",
     "output_type": "error",
     "traceback": [
      "\u001b[1;31m---------------------------------------------------------------------------\u001b[0m",
      "\u001b[1;31mZeroDivisionError\u001b[0m                         Traceback (most recent call last)",
      "Cell \u001b[1;32mIn[124], line 7\u001b[0m\n\u001b[0;32m      5\u001b[0m         total\u001b[38;5;241m+\u001b[39m\u001b[38;5;241m=\u001b[39msalary\n\u001b[0;32m      6\u001b[0m         count\u001b[38;5;241m+\u001b[39m\u001b[38;5;241m=\u001b[39m\u001b[38;5;241m1\u001b[39m\n\u001b[1;32m----> 7\u001b[0m total\u001b[38;5;241m/\u001b[39mcount\n",
      "\u001b[1;31mZeroDivisionError\u001b[0m: division by zero"
     ]
    }
   ],
   "source": [
    "total=0\n",
    "count=0\n",
    "for salary,team in zip(teams,salaries):\n",
    "    if team ==' Eagles':\n",
    "        total+=salary\n",
    "        count+=1\n",
    "total/count "
   ]
  },
  {
   "cell_type": "code",
   "execution_count": 84,
   "id": "8abcec88-f902-4dd9-8345-909fbe235410",
   "metadata": {},
   "outputs": [
    {
     "name": "stdout",
     "output_type": "stream",
     "text": [
      "{' Eagles': 2, ' Hawks': 2, ' Falcons': 1, ' Titans': 2, ' Panthers': 2, ' Bears': 1, ' Rangers': 1, ' Dolphins': 1, ' Sharks': 1, ' Lions': 1, ' Giants': 1, ' Raiders': 1, ' Cougars': 1, ' Warriors': 1, ' Jets': 1, ' Thunder': 1, ' Knights': 1, ' Wolves': 1, ' Bulldogs': 1, ' Outlaws': 1, ' Spartans': 1, ' Beavers': 1}\n"
     ]
    }
   ],
   "source": [
    "my_dict = {}\n",
    "\n",
    "for team in teams:\n",
    "    key =team\n",
    "    \n",
    "    if key not in my_dict.keys():\n",
    "         my_dict[team]=1\n",
    "    else:\n",
    "         my_dict[team]+=1\n",
    "print(my_dict)\n"
   ]
  },
  {
   "cell_type": "code",
   "execution_count": null,
   "id": "dfecb77b-78a2-440f-976b-8d1c9e034295",
   "metadata": {},
   "outputs": [],
   "source": []
  },
  {
   "cell_type": "code",
   "execution_count": 85,
   "id": "92648e46-8da7-437a-a9d1-c816c3c70abb",
   "metadata": {},
   "outputs": [
    {
     "name": "stdout",
     "output_type": "stream",
     "text": [
      "{' Eagles': 2, ' Outlaws': 1, ' Beavers': 1, ' Jets': 1, ' Titans': 2, ' Dolphins': 1, ' Wolves': 1, ' Lions': 1, ' Bulldogs': 1, ' Spartans': 1, ' Knights': 1, ' Thunder': 1, ' Cougars': 1, ' Rangers': 1, ' Hawks': 2, ' Sharks': 1, ' Giants': 1, ' Warriors': 1, ' Raiders': 1, ' Panthers': 2, ' Bears': 1, ' Falcons': 1}\n"
     ]
    }
   ],
   "source": [
    "team1 = list(set(teams))\n",
    "    \n",
    "# Count the frequency of each team \n",
    "team_count = {}\n",
    "for team in team1:\n",
    "         team_count[team] = teams.count(team)\n",
    " \n",
    "print(team_count)"
   ]
  },
  {
   "cell_type": "markdown",
   "id": "ad6dd734-a14b-4448-a03c-3a7bdb95a796",
   "metadata": {},
   "source": [
    "### series"
   ]
  },
  {
   "cell_type": "code",
   "execution_count": 86,
   "id": "b46b1329-17ab-4281-834b-495d467b7bb3",
   "metadata": {},
   "outputs": [
    {
     "data": {
      "text/plain": [
       "0     1\n",
       "1     2\n",
       "2     3\n",
       "3    45\n",
       "4    56\n",
       "dtype: int64"
      ]
     },
     "execution_count": 86,
     "metadata": {},
     "output_type": "execute_result"
    }
   ],
   "source": [
    "series=pd.Series([1,2,3,45,56])\n",
    "series"
   ]
  },
  {
   "cell_type": "markdown",
   "id": "4cea76f0-8d03-4949-80e0-d2b330180dfa",
   "metadata": {},
   "source": [
    "#### attributes"
   ]
  },
  {
   "cell_type": "code",
   "execution_count": 87,
   "id": "a70dd439-1647-4b92-a420-51f8651ed3d3",
   "metadata": {},
   "outputs": [
    {
     "data": {
      "text/plain": [
       "(RangeIndex(start=0, stop=5, step=1),\n",
       " array([ 1,  2,  3, 45, 56], dtype=int64),\n",
       " 5,\n",
       " (5,),\n",
       " dtype('int64'))"
      ]
     },
     "execution_count": 87,
     "metadata": {},
     "output_type": "execute_result"
    }
   ],
   "source": [
    "series.index,series.values,series.size, series.shape, series.dtype\n",
    "\n"
   ]
  },
  {
   "cell_type": "markdown",
   "id": "ad758677-6473-451a-8f16-d4fa9f9d5bfd",
   "metadata": {},
   "source": [
    "##### all values could have the same index\n",
    "##### the values could be in the different data typ"
   ]
  },
  {
   "cell_type": "markdown",
   "id": "2755bfbb-7536-4431-8dfa-35a9499ce2e7",
   "metadata": {},
   "source": [
    "#### methods from numpy"
   ]
  },
  {
   "cell_type": "code",
   "execution_count": 88,
   "id": "ab9028ec-a926-48dc-bf82-d7f20c10a2fe",
   "metadata": {},
   "outputs": [
    {
     "data": {
      "text/plain": [
       "(107, 21.4, 3.0, 721.3, 26.857028875138067)"
      ]
     },
     "execution_count": 88,
     "metadata": {},
     "output_type": "execute_result"
    }
   ],
   "source": [
    "series.sum(), series.mean(), series.median(), series.var(), series.std()"
   ]
  },
  {
   "cell_type": "code",
   "execution_count": 89,
   "id": "83765528-baa5-4048-8f2c-c034e71cba2a",
   "metadata": {},
   "outputs": [
    {
     "data": {
      "text/plain": [
       "(0     1\n",
       " 1     2\n",
       " 2     3\n",
       " 3    45\n",
       " 4    56\n",
       " dtype: int64,\n",
       " 0     1\n",
       " 1     2\n",
       " 2     3\n",
       " 3    45\n",
       " 4    56\n",
       " dtype: int64,\n",
       " 1     2\n",
       " 2     3\n",
       " 4    56\n",
       " 3    45\n",
       " 0     1\n",
       " dtype: int64)"
      ]
     },
     "execution_count": 89,
     "metadata": {},
     "output_type": "execute_result"
    }
   ],
   "source": [
    "series.head() , series.tail() , series.sample(5)"
   ]
  },
  {
   "cell_type": "code",
   "execution_count": 90,
   "id": "e6583b32-cf4f-4aea-86bb-16142817f12b",
   "metadata": {},
   "outputs": [
    {
     "data": {
      "text/plain": [
       "count     5.000000\n",
       "mean     21.400000\n",
       "std      26.857029\n",
       "min       1.000000\n",
       "25%       2.000000\n",
       "50%       3.000000\n",
       "75%      45.000000\n",
       "max      56.000000\n",
       "dtype: float64"
      ]
     },
     "execution_count": 90,
     "metadata": {},
     "output_type": "execute_result"
    }
   ],
   "source": [
    "series.describe()"
   ]
  },
  {
   "cell_type": "code",
   "execution_count": 91,
   "id": "55166316-bc1e-4000-a527-e55ca3fdebdc",
   "metadata": {},
   "outputs": [
    {
     "data": {
      "text/plain": [
       "count     4\n",
       "unique    3\n",
       "top       a\n",
       "freq      2\n",
       "dtype: object"
      ]
     },
     "execution_count": 91,
     "metadata": {},
     "output_type": "execute_result"
    }
   ],
   "source": [
    "series=pd.Series(['a', 'c', 'd','a'])\n",
    "series.describe()"
   ]
  },
  {
   "cell_type": "code",
   "execution_count": 92,
   "id": "12abeb02-0ab7-4647-ba51-a00ff062dddd",
   "metadata": {},
   "outputs": [
    {
     "data": {
      "text/html": [
       "<div>\n",
       "<style scoped>\n",
       "    .dataframe tbody tr th:only-of-type {\n",
       "        vertical-align: middle;\n",
       "    }\n",
       "\n",
       "    .dataframe tbody tr th {\n",
       "        vertical-align: top;\n",
       "    }\n",
       "\n",
       "    .dataframe thead th {\n",
       "        text-align: right;\n",
       "    }\n",
       "</style>\n",
       "<table border=\"1\" class=\"dataframe\">\n",
       "  <thead>\n",
       "    <tr style=\"text-align: right;\">\n",
       "      <th></th>\n",
       "      <th>age</th>\n",
       "    </tr>\n",
       "  </thead>\n",
       "  <tbody>\n",
       "    <tr>\n",
       "      <th>count</th>\n",
       "      <td>4.000000</td>\n",
       "    </tr>\n",
       "    <tr>\n",
       "      <th>mean</th>\n",
       "      <td>49.500000</td>\n",
       "    </tr>\n",
       "    <tr>\n",
       "      <th>std</th>\n",
       "      <td>14.200939</td>\n",
       "    </tr>\n",
       "    <tr>\n",
       "      <th>min</th>\n",
       "      <td>33.000000</td>\n",
       "    </tr>\n",
       "    <tr>\n",
       "      <th>25%</th>\n",
       "      <td>41.250000</td>\n",
       "    </tr>\n",
       "    <tr>\n",
       "      <th>50%</th>\n",
       "      <td>49.500000</td>\n",
       "    </tr>\n",
       "    <tr>\n",
       "      <th>75%</th>\n",
       "      <td>57.750000</td>\n",
       "    </tr>\n",
       "    <tr>\n",
       "      <th>max</th>\n",
       "      <td>66.000000</td>\n",
       "    </tr>\n",
       "  </tbody>\n",
       "</table>\n",
       "</div>"
      ],
      "text/plain": [
       "             age\n",
       "count   4.000000\n",
       "mean   49.500000\n",
       "std    14.200939\n",
       "min    33.000000\n",
       "25%    41.250000\n",
       "50%    49.500000\n",
       "75%    57.750000\n",
       "max    66.000000"
      ]
     },
     "execution_count": 92,
     "metadata": {},
     "output_type": "execute_result"
    }
   ],
   "source": [
    "df = pd.DataFrame(\n",
    "    {'name': ['ail', 'ahmed', 'sanaa', 'mody'],\n",
    "     'age': [33, 44, 55, 66]}\n",
    ")\n",
    "\n",
    "df.describe()"
   ]
  },
  {
   "cell_type": "code",
   "execution_count": 97,
   "id": "b382935c-f9ee-47ec-a43d-50c69355cc99",
   "metadata": {},
   "outputs": [
    {
     "data": {
      "text/html": [
       "<div>\n",
       "<style scoped>\n",
       "    .dataframe tbody tr th:only-of-type {\n",
       "        vertical-align: middle;\n",
       "    }\n",
       "\n",
       "    .dataframe tbody tr th {\n",
       "        vertical-align: top;\n",
       "    }\n",
       "\n",
       "    .dataframe thead th {\n",
       "        text-align: right;\n",
       "    }\n",
       "</style>\n",
       "<table border=\"1\" class=\"dataframe\">\n",
       "  <thead>\n",
       "    <tr style=\"text-align: right;\">\n",
       "      <th></th>\n",
       "      <th>name</th>\n",
       "      <th>age</th>\n",
       "    </tr>\n",
       "  </thead>\n",
       "  <tbody>\n",
       "    <tr>\n",
       "      <th>count</th>\n",
       "      <td>4</td>\n",
       "      <td>4.000000</td>\n",
       "    </tr>\n",
       "    <tr>\n",
       "      <th>unique</th>\n",
       "      <td>4</td>\n",
       "      <td>NaN</td>\n",
       "    </tr>\n",
       "    <tr>\n",
       "      <th>top</th>\n",
       "      <td>ail</td>\n",
       "      <td>NaN</td>\n",
       "    </tr>\n",
       "    <tr>\n",
       "      <th>freq</th>\n",
       "      <td>1</td>\n",
       "      <td>NaN</td>\n",
       "    </tr>\n",
       "    <tr>\n",
       "      <th>mean</th>\n",
       "      <td>NaN</td>\n",
       "      <td>49.500000</td>\n",
       "    </tr>\n",
       "    <tr>\n",
       "      <th>std</th>\n",
       "      <td>NaN</td>\n",
       "      <td>14.200939</td>\n",
       "    </tr>\n",
       "    <tr>\n",
       "      <th>min</th>\n",
       "      <td>NaN</td>\n",
       "      <td>33.000000</td>\n",
       "    </tr>\n",
       "    <tr>\n",
       "      <th>25%</th>\n",
       "      <td>NaN</td>\n",
       "      <td>41.250000</td>\n",
       "    </tr>\n",
       "    <tr>\n",
       "      <th>50%</th>\n",
       "      <td>NaN</td>\n",
       "      <td>49.500000</td>\n",
       "    </tr>\n",
       "    <tr>\n",
       "      <th>75%</th>\n",
       "      <td>NaN</td>\n",
       "      <td>57.750000</td>\n",
       "    </tr>\n",
       "    <tr>\n",
       "      <th>max</th>\n",
       "      <td>NaN</td>\n",
       "      <td>66.000000</td>\n",
       "    </tr>\n",
       "  </tbody>\n",
       "</table>\n",
       "</div>"
      ],
      "text/plain": [
       "       name        age\n",
       "count     4   4.000000\n",
       "unique    4        NaN\n",
       "top     ail        NaN\n",
       "freq      1        NaN\n",
       "mean    NaN  49.500000\n",
       "std     NaN  14.200939\n",
       "min     NaN  33.000000\n",
       "25%     NaN  41.250000\n",
       "50%     NaN  49.500000\n",
       "75%     NaN  57.750000\n",
       "max     NaN  66.000000"
      ]
     },
     "execution_count": 97,
     "metadata": {},
     "output_type": "execute_result"
    }
   ],
   "source": [
    "df.describe(include='all')"
   ]
  },
  {
   "cell_type": "code",
   "execution_count": 98,
   "id": "5191f6d4-799d-4f35-986a-905dafa4d7b9",
   "metadata": {},
   "outputs": [
    {
     "data": {
      "text/html": [
       "<div>\n",
       "<style scoped>\n",
       "    .dataframe tbody tr th:only-of-type {\n",
       "        vertical-align: middle;\n",
       "    }\n",
       "\n",
       "    .dataframe tbody tr th {\n",
       "        vertical-align: top;\n",
       "    }\n",
       "\n",
       "    .dataframe thead th {\n",
       "        text-align: right;\n",
       "    }\n",
       "</style>\n",
       "<table border=\"1\" class=\"dataframe\">\n",
       "  <thead>\n",
       "    <tr style=\"text-align: right;\">\n",
       "      <th></th>\n",
       "      <th>name</th>\n",
       "    </tr>\n",
       "  </thead>\n",
       "  <tbody>\n",
       "    <tr>\n",
       "      <th>count</th>\n",
       "      <td>4</td>\n",
       "    </tr>\n",
       "    <tr>\n",
       "      <th>unique</th>\n",
       "      <td>4</td>\n",
       "    </tr>\n",
       "    <tr>\n",
       "      <th>top</th>\n",
       "      <td>ail</td>\n",
       "    </tr>\n",
       "    <tr>\n",
       "      <th>freq</th>\n",
       "      <td>1</td>\n",
       "    </tr>\n",
       "  </tbody>\n",
       "</table>\n",
       "</div>"
      ],
      "text/plain": [
       "       name\n",
       "count     4\n",
       "unique    4\n",
       "top     ail\n",
       "freq      1"
      ]
     },
     "execution_count": 98,
     "metadata": {},
     "output_type": "execute_result"
    }
   ],
   "source": [
    "df.describe(include='object')"
   ]
  },
  {
   "cell_type": "code",
   "execution_count": 94,
   "id": "58985f24-b965-4540-a568-40be18eb18c2",
   "metadata": {},
   "outputs": [],
   "source": [
    "ds=pd.Series([1,2,3,4,5,6])\n"
   ]
  },
  {
   "cell_type": "code",
   "execution_count": 95,
   "id": "41bb14c5-1518-49ef-8e82-7e2bcc0178ba",
   "metadata": {},
   "outputs": [
    {
     "data": {
      "text/plain": [
       "0             smaller\n",
       "1             smaller\n",
       "2             smaller\n",
       "3             smaller\n",
       "4    greater or equal\n",
       "5    greater or equal\n",
       "dtype: object"
      ]
     },
     "execution_count": 95,
     "metadata": {},
     "output_type": "execute_result"
    }
   ],
   "source": [
    "def cat(x):\n",
    "    if x>=5:\n",
    "        return 'greater or equal'\n",
    "    else:\n",
    "        return 'smaller'\n",
    "ds.apply(cat)        \n"
   ]
  },
  {
   "cell_type": "code",
   "execution_count": 101,
   "id": "cf626c20-34ef-4abe-a985-f8fcf86b8dee",
   "metadata": {},
   "outputs": [],
   "source": [
    "catg=lambda x:'greater or equal' if x>=5 else 'smaller'"
   ]
  },
  {
   "cell_type": "code",
   "execution_count": 102,
   "id": "9293b433-e747-4234-8ee4-60003fa99835",
   "metadata": {},
   "outputs": [
    {
     "data": {
      "text/plain": [
       "0             smaller\n",
       "1             smaller\n",
       "2             smaller\n",
       "3             smaller\n",
       "4    greater or equal\n",
       "5    greater or equal\n",
       "dtype: object"
      ]
     },
     "execution_count": 102,
     "metadata": {},
     "output_type": "execute_result"
    }
   ],
   "source": [
    "ds.apply(catg)"
   ]
  },
  {
   "cell_type": "code",
   "execution_count": 103,
   "id": "a4e2d84c-7658-4336-a007-24ba5f1b15ef",
   "metadata": {},
   "outputs": [
    {
     "data": {
      "text/plain": [
       "0             smaller\n",
       "1             smaller\n",
       "2             smaller\n",
       "3             smaller\n",
       "4    greater or equal\n",
       "5    greater or equal\n",
       "dtype: object"
      ]
     },
     "execution_count": 103,
     "metadata": {},
     "output_type": "execute_result"
    }
   ],
   "source": [
    "ds.apply(lambda x:'greater or equal' if x>=5 else 'smaller')"
   ]
  },
  {
   "cell_type": "code",
   "execution_count": 100,
   "id": "36aed9d6-134d-44f0-b04f-ad3bc7857bd7",
   "metadata": {},
   "outputs": [
    {
     "data": {
      "text/plain": [
       "5"
      ]
     },
     "execution_count": 100,
     "metadata": {},
     "output_type": "execute_result"
    }
   ],
   "source": [
    "add=lambda x,y: x+y\n",
    "add(2,3)"
   ]
  },
  {
   "cell_type": "code",
   "execution_count": null,
   "id": "986125c2-a2a5-481e-8e14-c4c0d915b35b",
   "metadata": {},
   "outputs": [],
   "source": []
  }
 ],
 "metadata": {
  "kernelspec": {
   "display_name": "Python 3 (ipykernel)",
   "language": "python",
   "name": "python3"
  },
  "language_info": {
   "codemirror_mode": {
    "name": "ipython",
    "version": 3
   },
   "file_extension": ".py",
   "mimetype": "text/x-python",
   "name": "python",
   "nbconvert_exporter": "python",
   "pygments_lexer": "ipython3",
   "version": "3.11.7"
  }
 },
 "nbformat": 4,
 "nbformat_minor": 5
}
